{
 "cells": [
  {
   "cell_type": "markdown",
   "metadata": {},
   "source": [
    "# Assignment #1: The Donut Effect for Philadelphia ZIP Codes\n",
    "\n",
    "In this assignment, we will practice our `pandas` skills and explore the [\"Donut Effect\"](https://www.gsb.stanford.edu/faculty-research/publications/donut-effect-how-covid-19-shapes-real-estate) within Philadelphia. The \"Donut Effect\" describes the following phenomenon: with more flexible working options and pandemic-driven density fears, people left urban dense cores and opted for more space in city suburbs, driving home and rental prices up in the suburbs relative to city centers.\n",
    "\n",
    "We will be working with [Zillow data](https://www.zillow.com/research/data/) for the Zillow Home Value Index (ZHVI) for Philadelphia ZIP codes. The goal will be to calculate home price appreciation in Philadelphia, comparing those ZIP codes in Center City (the central business district) to those not in Center City."
   ]
  },
  {
   "cell_type": "markdown",
   "metadata": {},
   "source": [
    "# Desra Arriyadi"
   ]
  },
  {
   "cell_type": "markdown",
   "metadata": {
    "tags": []
   },
   "source": [
    "## 1. Load the data\n",
    "\n",
    "I've already downloaded the relevant data file and put in the `data/` folder. Let's load it using `pandas`.  \n",
    "\n",
    "**Note:** Be sure to use a *relative* file path to make it easier to load your data when grading. See [this guide](https://musa-550-fall-2023.github.io/resource/file-paths.html) for more info."
   ]
  },
  {
   "cell_type": "code",
   "execution_count": 68,
   "metadata": {
    "tags": []
   },
   "outputs": [],
   "source": [
    "import pandas as pd"
   ]
  },
  {
   "cell_type": "code",
   "execution_count": 69,
   "metadata": {
    "tags": []
   },
   "outputs": [
    {
     "data": {
      "text/html": [
       "<div>\n",
       "<style scoped>\n",
       "    .dataframe tbody tr th:only-of-type {\n",
       "        vertical-align: middle;\n",
       "    }\n",
       "\n",
       "    .dataframe tbody tr th {\n",
       "        vertical-align: top;\n",
       "    }\n",
       "\n",
       "    .dataframe thead th {\n",
       "        text-align: right;\n",
       "    }\n",
       "</style>\n",
       "<table border=\"1\" class=\"dataframe\">\n",
       "  <thead>\n",
       "    <tr style=\"text-align: right;\">\n",
       "      <th></th>\n",
       "      <th>RegionID</th>\n",
       "      <th>SizeRank</th>\n",
       "      <th>RegionName</th>\n",
       "      <th>RegionType</th>\n",
       "      <th>StateName</th>\n",
       "      <th>State</th>\n",
       "      <th>City</th>\n",
       "      <th>Metro</th>\n",
       "      <th>CountyName</th>\n",
       "      <th>2000-01-31</th>\n",
       "      <th>...</th>\n",
       "      <th>2021-10-31</th>\n",
       "      <th>2021-11-30</th>\n",
       "      <th>2021-12-31</th>\n",
       "      <th>2022-01-31</th>\n",
       "      <th>2022-02-28</th>\n",
       "      <th>2022-03-31</th>\n",
       "      <th>2022-04-30</th>\n",
       "      <th>2022-05-31</th>\n",
       "      <th>2022-06-30</th>\n",
       "      <th>2022-07-31</th>\n",
       "    </tr>\n",
       "  </thead>\n",
       "  <tbody>\n",
       "    <tr>\n",
       "      <th>0</th>\n",
       "      <td>61639</td>\n",
       "      <td>0</td>\n",
       "      <td>10025</td>\n",
       "      <td>Zip</td>\n",
       "      <td>NY</td>\n",
       "      <td>NY</td>\n",
       "      <td>New York</td>\n",
       "      <td>New York-Newark-Jersey City</td>\n",
       "      <td>New York County</td>\n",
       "      <td>329164.0</td>\n",
       "      <td>...</td>\n",
       "      <td>1153364.0</td>\n",
       "      <td>1152736.0</td>\n",
       "      <td>1153314.0</td>\n",
       "      <td>1159292.0</td>\n",
       "      <td>1171216.0</td>\n",
       "      <td>1190200.0</td>\n",
       "      <td>1207107.0</td>\n",
       "      <td>1221417.0</td>\n",
       "      <td>1227148.0</td>\n",
       "      <td>1234232.0</td>\n",
       "    </tr>\n",
       "    <tr>\n",
       "      <th>1</th>\n",
       "      <td>84654</td>\n",
       "      <td>1</td>\n",
       "      <td>60657</td>\n",
       "      <td>Zip</td>\n",
       "      <td>IL</td>\n",
       "      <td>IL</td>\n",
       "      <td>Chicago</td>\n",
       "      <td>Chicago-Naperville-Elgin</td>\n",
       "      <td>Cook County</td>\n",
       "      <td>311718.0</td>\n",
       "      <td>...</td>\n",
       "      <td>523727.0</td>\n",
       "      <td>526511.0</td>\n",
       "      <td>528499.0</td>\n",
       "      <td>529879.0</td>\n",
       "      <td>530092.0</td>\n",
       "      <td>532758.0</td>\n",
       "      <td>534840.0</td>\n",
       "      <td>539859.0</td>\n",
       "      <td>543658.0</td>\n",
       "      <td>546709.0</td>\n",
       "    </tr>\n",
       "    <tr>\n",
       "      <th>2</th>\n",
       "      <td>61637</td>\n",
       "      <td>2</td>\n",
       "      <td>10023</td>\n",
       "      <td>Zip</td>\n",
       "      <td>NY</td>\n",
       "      <td>NY</td>\n",
       "      <td>New York</td>\n",
       "      <td>New York-Newark-Jersey City</td>\n",
       "      <td>New York County</td>\n",
       "      <td>510209.0</td>\n",
       "      <td>...</td>\n",
       "      <td>1517150.0</td>\n",
       "      <td>1521442.0</td>\n",
       "      <td>1521759.0</td>\n",
       "      <td>1532449.0</td>\n",
       "      <td>1542269.0</td>\n",
       "      <td>1559390.0</td>\n",
       "      <td>1572653.0</td>\n",
       "      <td>1591368.0</td>\n",
       "      <td>1600569.0</td>\n",
       "      <td>1607770.0</td>\n",
       "    </tr>\n",
       "  </tbody>\n",
       "</table>\n",
       "<p>3 rows × 280 columns</p>\n",
       "</div>"
      ],
      "text/plain": [
       "   RegionID  SizeRank  RegionName RegionType StateName State      City  \\\n",
       "0     61639         0       10025        Zip        NY    NY  New York   \n",
       "1     84654         1       60657        Zip        IL    IL   Chicago   \n",
       "2     61637         2       10023        Zip        NY    NY  New York   \n",
       "\n",
       "                         Metro       CountyName  2000-01-31  ...  2021-10-31  \\\n",
       "0  New York-Newark-Jersey City  New York County    329164.0  ...   1153364.0   \n",
       "1     Chicago-Naperville-Elgin      Cook County    311718.0  ...    523727.0   \n",
       "2  New York-Newark-Jersey City  New York County    510209.0  ...   1517150.0   \n",
       "\n",
       "   2021-11-30  2021-12-31  2022-01-31  2022-02-28  2022-03-31  2022-04-30  \\\n",
       "0   1152736.0   1153314.0   1159292.0   1171216.0   1190200.0   1207107.0   \n",
       "1    526511.0    528499.0    529879.0    530092.0    532758.0    534840.0   \n",
       "2   1521442.0   1521759.0   1532449.0   1542269.0   1559390.0   1572653.0   \n",
       "\n",
       "   2022-05-31  2022-06-30  2022-07-31  \n",
       "0   1221417.0   1227148.0   1234232.0  \n",
       "1    539859.0    543658.0    546709.0  \n",
       "2   1591368.0   1600569.0   1607770.0  \n",
       "\n",
       "[3 rows x 280 columns]"
      ]
     },
     "execution_count": 69,
     "metadata": {},
     "output_type": "execute_result"
    }
   ],
   "source": [
    "#import and check data\n",
    "alldata = pd.read_csv(\"data/Zip_zhvi_uc_sfrcondo_tier_0.33_0.67_sm_sa_month.csv\")\n",
    "alldata.head(3)"
   ]
  },
  {
   "cell_type": "markdown",
   "metadata": {},
   "source": [
    "## 2. Trim the data to just Philadelphia\n",
    "\n",
    "Select the subset of the dataframe for Philadelphia, PA."
   ]
  },
  {
   "cell_type": "code",
   "execution_count": 70,
   "metadata": {
    "tags": []
   },
   "outputs": [
    {
     "data": {
      "text/plain": [
       "Index(['RegionID', 'SizeRank', 'RegionName', 'RegionType', 'StateName',\n",
       "       'State', 'City', 'Metro', 'CountyName', '2000-01-31',\n",
       "       ...\n",
       "       '2021-10-31', '2021-11-30', '2021-12-31', '2022-01-31', '2022-02-28',\n",
       "       '2022-03-31', '2022-04-30', '2022-05-31', '2022-06-30', '2022-07-31'],\n",
       "      dtype='object', length=280)"
      ]
     },
     "execution_count": 70,
     "metadata": {},
     "output_type": "execute_result"
    }
   ],
   "source": [
    "#show column list\n",
    "alldata.columns"
   ]
  },
  {
   "cell_type": "code",
   "execution_count": 71,
   "metadata": {
    "tags": []
   },
   "outputs": [
    {
     "data": {
      "text/plain": [
       "array(['PA'], dtype=object)"
      ]
     },
     "execution_count": 71,
     "metadata": {},
     "output_type": "execute_result"
    }
   ],
   "source": [
    "#trim data to just Pennsylvania, excluding any Philadelphia from other states\n",
    "pennsyl = alldata[\"State\"].isin([\"PA\"])\n",
    "trim_pennsyl = alldata.loc[pennsyl]\n",
    "\n",
    "#check unique data selected\n",
    "trim_phila['State'].unique()"
   ]
  },
  {
   "cell_type": "code",
   "execution_count": 72,
   "metadata": {},
   "outputs": [
    {
     "data": {
      "text/plain": [
       "array(['Philadelphia'], dtype=object)"
      ]
     },
     "execution_count": 72,
     "metadata": {},
     "output_type": "execute_result"
    }
   ],
   "source": [
    "#trim data to just Philadelphia in Pennsylvania\n",
    "phila = trim_pennsyl[\"City\"].isin([\"Philadelphia\"])\n",
    "trim_phila = trim_pennsyl.loc[phila]\n",
    "\n",
    "#check unique data selected\n",
    "trim_phila['City'].unique()"
   ]
  },
  {
   "cell_type": "markdown",
   "metadata": {
    "tags": []
   },
   "source": [
    "## 3. Melt the data into tidy format\n",
    "\n",
    "Let's transform the data from wide to tidy using the `pd.melt()` function. Create a new column in your data called \"ZHVI\" that holds the ZHVI values."
   ]
  },
  {
   "cell_type": "code",
   "execution_count": 73,
   "metadata": {
    "tags": []
   },
   "outputs": [],
   "source": [
    "#function that test if a string column name starts with '20'\n",
    "def looks_like_a_date(column_name):\n",
    "    return column_name.startswith(\"20\")"
   ]
  },
  {
   "cell_type": "code",
   "execution_count": 74,
   "metadata": {
    "tags": []
   },
   "outputs": [
    {
     "data": {
      "text/plain": [
       "True"
      ]
     },
     "execution_count": 74,
     "metadata": {},
     "output_type": "execute_result"
    }
   ],
   "source": [
    "#test the function\n",
    "looks_like_a_date(\"2000-01-31\")"
   ]
  },
  {
   "cell_type": "code",
   "execution_count": 75,
   "metadata": {
    "tags": []
   },
   "outputs": [],
   "source": [
    "#get values by explicitly pass to list() function\n",
    "philalist = list(\n",
    "    filter(looks_like_a_date, trim_phila.columns)\n",
    ")\n",
    "\n",
    "#remove hashtag symbol (#) below to check\n",
    "#philalist"
   ]
  },
  {
   "cell_type": "code",
   "execution_count": 3,
   "metadata": {
    "tags": []
   },
   "outputs": [
    {
     "ename": "NameError",
     "evalue": "name 'pd' is not defined",
     "output_type": "error",
     "traceback": [
      "\u001b[1;31m---------------------------------------------------------------------------\u001b[0m",
      "\u001b[1;31mNameError\u001b[0m                                 Traceback (most recent call last)",
      "Cell \u001b[1;32mIn[3], line 2\u001b[0m\n\u001b[0;32m      1\u001b[0m \u001b[38;5;66;03m#use melt function for converting from wide formats to tidy formats\u001b[39;00m\n\u001b[1;32m----> 2\u001b[0m \u001b[43mpd\u001b[49m\u001b[38;5;241m.\u001b[39mmelt(\n\u001b[0;32m      3\u001b[0m     trim_phila,\n\u001b[0;32m      4\u001b[0m     id_vars\u001b[38;5;241m=\u001b[39m[\u001b[38;5;124m\"\u001b[39m\u001b[38;5;124mRegionName\u001b[39m\u001b[38;5;124m\"\u001b[39m, \u001b[38;5;124m\"\u001b[39m\u001b[38;5;124mMetro\u001b[39m\u001b[38;5;124m\"\u001b[39m, \u001b[38;5;124m\"\u001b[39m\u001b[38;5;124mCountyName\u001b[39m\u001b[38;5;124m\"\u001b[39m],\n\u001b[0;32m      5\u001b[0m     value_vars\u001b[38;5;241m=\u001b[39m\u001b[38;5;28mlist\u001b[39m(\n\u001b[0;32m      6\u001b[0m         \u001b[38;5;28mfilter\u001b[39m(looks_like_a_date, trim_phila\u001b[38;5;241m.\u001b[39mcolumns)\n\u001b[0;32m      7\u001b[0m     ),\n\u001b[0;32m      8\u001b[0m     var_name\u001b[38;5;241m=\u001b[39m\u001b[38;5;124m\"\u001b[39m\u001b[38;5;124mDate\u001b[39m\u001b[38;5;124m\"\u001b[39m,\n\u001b[0;32m      9\u001b[0m     value_name\u001b[38;5;241m=\u001b[39m\u001b[38;5;124m\"\u001b[39m\u001b[38;5;124mZHVI\u001b[39m\u001b[38;5;124m\"\u001b[39m,\n\u001b[0;32m     10\u001b[0m )\n",
      "\u001b[1;31mNameError\u001b[0m: name 'pd' is not defined"
     ]
    }
   ],
   "source": [
    "#use melt function for converting from wide formats to tidy formats\n",
    "pd.melt(\n",
    "    trim_phila,\n",
    "    id_vars=[\"RegionName\", \"Metro\", \"CountyName\"],\n",
    "    value_vars=list(\n",
    "        filter(looks_like_a_date, trim_phila.columns)\n",
    "    ),\n",
    "    var_name=\"Date\",\n",
    "    value_name=\"ZHVI\",\n",
    ")"
   ]
  },
  {
   "cell_type": "code",
   "execution_count": 77,
   "metadata": {
    "tags": []
   },
   "outputs": [
    {
     "data": {
      "text/html": [
       "<div>\n",
       "<style scoped>\n",
       "    .dataframe tbody tr th:only-of-type {\n",
       "        vertical-align: middle;\n",
       "    }\n",
       "\n",
       "    .dataframe tbody tr th {\n",
       "        vertical-align: top;\n",
       "    }\n",
       "\n",
       "    .dataframe thead th {\n",
       "        text-align: right;\n",
       "    }\n",
       "</style>\n",
       "<table border=\"1\" class=\"dataframe\">\n",
       "  <thead>\n",
       "    <tr style=\"text-align: right;\">\n",
       "      <th></th>\n",
       "      <th>RegionName</th>\n",
       "      <th>Metro</th>\n",
       "      <th>CountyName</th>\n",
       "      <th>Date</th>\n",
       "      <th>ZHVI</th>\n",
       "    </tr>\n",
       "  </thead>\n",
       "  <tbody>\n",
       "    <tr>\n",
       "      <th>0</th>\n",
       "      <td>19143</td>\n",
       "      <td>Philadelphia-Camden-Wilmington</td>\n",
       "      <td>Philadelphia County</td>\n",
       "      <td>2000-01-31</td>\n",
       "      <td>60701.0</td>\n",
       "    </tr>\n",
       "    <tr>\n",
       "      <th>1</th>\n",
       "      <td>19111</td>\n",
       "      <td>Philadelphia-Camden-Wilmington</td>\n",
       "      <td>Philadelphia County</td>\n",
       "      <td>2000-01-31</td>\n",
       "      <td>85062.0</td>\n",
       "    </tr>\n",
       "    <tr>\n",
       "      <th>2</th>\n",
       "      <td>19124</td>\n",
       "      <td>Philadelphia-Camden-Wilmington</td>\n",
       "      <td>Philadelphia County</td>\n",
       "      <td>2000-01-31</td>\n",
       "      <td>47155.0</td>\n",
       "    </tr>\n",
       "    <tr>\n",
       "      <th>3</th>\n",
       "      <td>19120</td>\n",
       "      <td>Philadelphia-Camden-Wilmington</td>\n",
       "      <td>Philadelphia County</td>\n",
       "      <td>2000-01-31</td>\n",
       "      <td>59285.0</td>\n",
       "    </tr>\n",
       "    <tr>\n",
       "      <th>4</th>\n",
       "      <td>19104</td>\n",
       "      <td>Philadelphia-Camden-Wilmington</td>\n",
       "      <td>Philadelphia County</td>\n",
       "      <td>2000-01-31</td>\n",
       "      <td>74255.0</td>\n",
       "    </tr>\n",
       "  </tbody>\n",
       "</table>\n",
       "</div>"
      ],
      "text/plain": [
       "   RegionName                           Metro           CountyName  \\\n",
       "0       19143  Philadelphia-Camden-Wilmington  Philadelphia County   \n",
       "1       19111  Philadelphia-Camden-Wilmington  Philadelphia County   \n",
       "2       19124  Philadelphia-Camden-Wilmington  Philadelphia County   \n",
       "3       19120  Philadelphia-Camden-Wilmington  Philadelphia County   \n",
       "4       19104  Philadelphia-Camden-Wilmington  Philadelphia County   \n",
       "\n",
       "         Date     ZHVI  \n",
       "0  2000-01-31  60701.0  \n",
       "1  2000-01-31  85062.0  \n",
       "2  2000-01-31  47155.0  \n",
       "3  2000-01-31  59285.0  \n",
       "4  2000-01-31  74255.0  "
      ]
     },
     "execution_count": 77,
     "metadata": {},
     "output_type": "execute_result"
    }
   ],
   "source": [
    "#apply melt function\n",
    "phila_tidy = trim_phila.melt(\n",
    "    id_vars=[\"RegionName\",\"Metro\", \"CountyName\"],\n",
    "    value_vars=list(filter(looks_like_a_date, trim_phila.columns)),\n",
    "    var_name=\"Date\",\n",
    "    value_name=\"ZHVI\",\n",
    ")\n",
    "\n",
    "#check\n",
    "phila_tidy.head(5)"
   ]
  },
  {
   "cell_type": "markdown",
   "metadata": {},
   "source": [
    "## 4. Split the data for ZIP codes in/outside Center City\n",
    "\n",
    "To compare home appreciation in Center City vs. outside Center City, we'll need to split the data into two dataframes, one that holds the Center City ZIP codes and one that holds the data for the rest of the ZIP codes in Philadelphia.\n",
    "\n",
    "To help with this process, I've included a list of ZIP codes that make up the \"greater Center City\" region of Philadelphia. Use this list to split the melted data into two dataframes."
   ]
  },
  {
   "cell_type": "code",
   "execution_count": 78,
   "metadata": {
    "tags": []
   },
   "outputs": [
    {
     "data": {
      "text/plain": [
       "46"
      ]
     },
     "execution_count": 78,
     "metadata": {},
     "output_type": "execute_result"
    }
   ],
   "source": [
    "#first, check the total number of unique ZIP codes\n",
    "phila_tidy['RegionName'].nunique()"
   ]
  },
  {
   "cell_type": "code",
   "execution_count": 79,
   "metadata": {
    "tags": []
   },
   "outputs": [],
   "source": [
    "#List of the greater Center City\n",
    "greater_center_city_zip_codes = [\n",
    "    19123,\n",
    "    19102,\n",
    "    19103,\n",
    "    19106,\n",
    "    19107,\n",
    "    19109,\n",
    "    19130,\n",
    "    19146,\n",
    "    19147,\n",
    "]\n",
    "\n",
    "#there are total 9 ZIP codes. Remember, the count starts from 0, so it is equal to 8 in Python"
   ]
  },
  {
   "cell_type": "code",
   "execution_count": 80,
   "metadata": {},
   "outputs": [
    {
     "data": {
      "text/plain": [
       "8"
      ]
     },
     "execution_count": 80,
     "metadata": {},
     "output_type": "execute_result"
    }
   ],
   "source": [
    "#split the data for ZIP codes in Center City\n",
    "phila_center_sel = phila_tidy['RegionName'].isin(greater_center_city_zip_codes)\n",
    "phila_center = phila_tidy.loc[phila_center_sel]\n",
    "\n",
    "#verify the total number of unique ZIP codes in Center City\n",
    "phila_center['RegionName'].nunique()"
   ]
  },
  {
   "cell_type": "code",
   "execution_count": 81,
   "metadata": {
    "tags": []
   },
   "outputs": [
    {
     "data": {
      "text/plain": [
       "38"
      ]
     },
     "execution_count": 81,
     "metadata": {},
     "output_type": "execute_result"
    }
   ],
   "source": [
    "#split the data for ZIP codes outside Center City by adding tildes symbol (~) to invert the result\n",
    "phila_outside_sel = ~phila_tidy['RegionName'].isin(greater_center_city_zip_codes)\n",
    "phila_outside = phila_tidy.loc[phila_outside_sel]\n",
    "\n",
    "#verify the total number of unique ZIP codes outside Center City\n",
    "phila_outside['RegionName'].nunique()"
   ]
  },
  {
   "cell_type": "markdown",
   "metadata": {},
   "source": [
    "## 5. Compare home value appreciation in Philadelpia\n",
    "\n",
    "In this step, we'll calculate the average percent increase in ZHVI from March 2020 to March 2022 for ZIP codes in/out of Center City. We'll do this by:\n",
    "\n",
    "- Writing a function (see the template below) that will calculate the percent increase in ZHVI from March 31, 2020 to March 31, 2022\n",
    "- Group your data and apply this function to calculate the ZHVI percent change for each ZIP code in Philadelphia. Do this for both of your dataframes from the previous step.\n",
    "- Calculate the average value across ZIP codes for both sets of ZIP codes and then compare\n",
    "\n",
    "You should see much larger growth for ZIP codes outside of Center City...the Donut Effect! "
   ]
  },
  {
   "cell_type": "code",
   "execution_count": 82,
   "metadata": {
    "tags": []
   },
   "outputs": [
    {
     "data": {
      "text/plain": [
       "<pandas.core.groupby.generic.DataFrameGroupBy object at 0x000001C8CD407C10>"
      ]
     },
     "execution_count": 82,
     "metadata": {},
     "output_type": "execute_result"
    }
   ],
   "source": [
    "#use groupby operation for Center City\n",
    "center_grouped = phila_center.groupby(\"RegionName\")\n",
    "center_grouped"
   ]
  },
  {
   "cell_type": "code",
   "execution_count": 83,
   "metadata": {
    "tags": []
   },
   "outputs": [
    {
     "data": {
      "text/plain": [
       "<pandas.core.groupby.generic.DataFrameGroupBy object at 0x000001C8CD4079D0>"
      ]
     },
     "execution_count": 83,
     "metadata": {},
     "output_type": "execute_result"
    }
   ],
   "source": [
    "#use groupby operation for outside of Center City\n",
    "outside_grouped = phila_outside.groupby(\"RegionName\")\n",
    "outside_grouped"
   ]
  },
  {
   "cell_type": "code",
   "execution_count": 84,
   "metadata": {
    "tags": []
   },
   "outputs": [],
   "source": [
    "#set up the function to calculate percent increase\n",
    "def calculate_percent_increase(group_df):\n",
    "    \"\"\"\n",
    "    Calculate the percent increase from 2020-03-31 to 2022-03-31.\n",
    "    \n",
    "    Note that `group_df` is the DataFrame for each group.\n",
    "    \"\"\"\n",
    "    \n",
    "    #create selections for the march 2020 and march 2022 data\n",
    "    march2020_sel = group_df[\"Date\"] == \"2020-03-31\"\n",
    "    march2022_sel = group_df[\"Date\"] == \"2022-03-31\"\n",
    "    \n",
    "    #get the data for each month (only 1 row, so squeeze it!)\n",
    "    march_2020 = group_df.loc[march2020_sel].squeeze()\n",
    "    march_2022 = group_df.loc[march2022_sel].squeeze()\n",
    "\n",
    "    #columns to calculate percent change for\n",
    "    columns = [\"ZHVI\"]\n",
    "    \n",
    "    #return the percent change for both columns\n",
    "    return 100 * (march_2022[columns] / march_2020[columns] - 1)\n"
   ]
  },
  {
   "cell_type": "code",
   "execution_count": 85,
   "metadata": {},
   "outputs": [
    {
     "data": {
      "text/html": [
       "<div>\n",
       "<style scoped>\n",
       "    .dataframe tbody tr th:only-of-type {\n",
       "        vertical-align: middle;\n",
       "    }\n",
       "\n",
       "    .dataframe tbody tr th {\n",
       "        vertical-align: top;\n",
       "    }\n",
       "\n",
       "    .dataframe thead th {\n",
       "        text-align: right;\n",
       "    }\n",
       "</style>\n",
       "<table border=\"1\" class=\"dataframe\">\n",
       "  <thead>\n",
       "    <tr style=\"text-align: right;\">\n",
       "      <th></th>\n",
       "      <th>ZHVI</th>\n",
       "    </tr>\n",
       "    <tr>\n",
       "      <th>RegionName</th>\n",
       "      <th></th>\n",
       "    </tr>\n",
       "  </thead>\n",
       "  <tbody>\n",
       "    <tr>\n",
       "      <th>19102</th>\n",
       "      <td>-1.72</td>\n",
       "    </tr>\n",
       "    <tr>\n",
       "      <th>19103</th>\n",
       "      <td>-1.70</td>\n",
       "    </tr>\n",
       "    <tr>\n",
       "      <th>19106</th>\n",
       "      <td>2.52</td>\n",
       "    </tr>\n",
       "    <tr>\n",
       "      <th>19107</th>\n",
       "      <td>2.88</td>\n",
       "    </tr>\n",
       "    <tr>\n",
       "      <th>19123</th>\n",
       "      <td>5.21</td>\n",
       "    </tr>\n",
       "    <tr>\n",
       "      <th>19147</th>\n",
       "      <td>6.14</td>\n",
       "    </tr>\n",
       "    <tr>\n",
       "      <th>19146</th>\n",
       "      <td>6.48</td>\n",
       "    </tr>\n",
       "    <tr>\n",
       "      <th>19130</th>\n",
       "      <td>6.67</td>\n",
       "    </tr>\n",
       "  </tbody>\n",
       "</table>\n",
       "</div>"
      ],
      "text/plain": [
       "            ZHVI\n",
       "RegionName      \n",
       "19102      -1.72\n",
       "19103      -1.70\n",
       "19106       2.52\n",
       "19107       2.88\n",
       "19123       5.21\n",
       "19147       6.14\n",
       "19146       6.48\n",
       "19130       6.67"
      ]
     },
     "execution_count": 85,
     "metadata": {},
     "output_type": "execute_result"
    }
   ],
   "source": [
    "#apply function for Center City\n",
    "center_result = center_grouped.apply(calculate_percent_increase)\n",
    "center_result.round(2).sort_values(by=\"ZHVI\", ascending=True)"
   ]
  },
  {
   "cell_type": "code",
   "execution_count": 86,
   "metadata": {},
   "outputs": [
    {
     "data": {
      "text/html": [
       "<div>\n",
       "<style scoped>\n",
       "    .dataframe tbody tr th:only-of-type {\n",
       "        vertical-align: middle;\n",
       "    }\n",
       "\n",
       "    .dataframe tbody tr th {\n",
       "        vertical-align: top;\n",
       "    }\n",
       "\n",
       "    .dataframe thead th {\n",
       "        text-align: right;\n",
       "    }\n",
       "</style>\n",
       "<table border=\"1\" class=\"dataframe\">\n",
       "  <thead>\n",
       "    <tr style=\"text-align: right;\">\n",
       "      <th></th>\n",
       "      <th>ZHVI</th>\n",
       "    </tr>\n",
       "    <tr>\n",
       "      <th>RegionName</th>\n",
       "      <th></th>\n",
       "    </tr>\n",
       "  </thead>\n",
       "  <tbody>\n",
       "    <tr>\n",
       "      <th>19148</th>\n",
       "      <td>6.96</td>\n",
       "    </tr>\n",
       "    <tr>\n",
       "      <th>19145</th>\n",
       "      <td>7.63</td>\n",
       "    </tr>\n",
       "    <tr>\n",
       "      <th>19122</th>\n",
       "      <td>10.28</td>\n",
       "    </tr>\n",
       "    <tr>\n",
       "      <th>19125</th>\n",
       "      <td>11.01</td>\n",
       "    </tr>\n",
       "    <tr>\n",
       "      <th>19104</th>\n",
       "      <td>14.54</td>\n",
       "    </tr>\n",
       "    <tr>\n",
       "      <th>19129</th>\n",
       "      <td>15.60</td>\n",
       "    </tr>\n",
       "    <tr>\n",
       "      <th>19119</th>\n",
       "      <td>17.48</td>\n",
       "    </tr>\n",
       "    <tr>\n",
       "      <th>19118</th>\n",
       "      <td>17.59</td>\n",
       "    </tr>\n",
       "    <tr>\n",
       "      <th>19154</th>\n",
       "      <td>17.93</td>\n",
       "    </tr>\n",
       "    <tr>\n",
       "      <th>19150</th>\n",
       "      <td>18.74</td>\n",
       "    </tr>\n",
       "    <tr>\n",
       "      <th>19151</th>\n",
       "      <td>19.65</td>\n",
       "    </tr>\n",
       "    <tr>\n",
       "      <th>19127</th>\n",
       "      <td>20.02</td>\n",
       "    </tr>\n",
       "    <tr>\n",
       "      <th>19126</th>\n",
       "      <td>20.82</td>\n",
       "    </tr>\n",
       "    <tr>\n",
       "      <th>19114</th>\n",
       "      <td>21.07</td>\n",
       "    </tr>\n",
       "    <tr>\n",
       "      <th>19144</th>\n",
       "      <td>21.09</td>\n",
       "    </tr>\n",
       "    <tr>\n",
       "      <th>19128</th>\n",
       "      <td>21.89</td>\n",
       "    </tr>\n",
       "    <tr>\n",
       "      <th>19152</th>\n",
       "      <td>21.99</td>\n",
       "    </tr>\n",
       "    <tr>\n",
       "      <th>19115</th>\n",
       "      <td>22.46</td>\n",
       "    </tr>\n",
       "    <tr>\n",
       "      <th>19116</th>\n",
       "      <td>23.08</td>\n",
       "    </tr>\n",
       "    <tr>\n",
       "      <th>19137</th>\n",
       "      <td>23.25</td>\n",
       "    </tr>\n",
       "    <tr>\n",
       "      <th>19131</th>\n",
       "      <td>23.36</td>\n",
       "    </tr>\n",
       "    <tr>\n",
       "      <th>19134</th>\n",
       "      <td>23.94</td>\n",
       "    </tr>\n",
       "    <tr>\n",
       "      <th>19143</th>\n",
       "      <td>23.95</td>\n",
       "    </tr>\n",
       "    <tr>\n",
       "      <th>19138</th>\n",
       "      <td>24.66</td>\n",
       "    </tr>\n",
       "    <tr>\n",
       "      <th>19149</th>\n",
       "      <td>24.92</td>\n",
       "    </tr>\n",
       "    <tr>\n",
       "      <th>19121</th>\n",
       "      <td>26.23</td>\n",
       "    </tr>\n",
       "    <tr>\n",
       "      <th>19141</th>\n",
       "      <td>26.44</td>\n",
       "    </tr>\n",
       "    <tr>\n",
       "      <th>19136</th>\n",
       "      <td>26.49</td>\n",
       "    </tr>\n",
       "    <tr>\n",
       "      <th>19120</th>\n",
       "      <td>26.93</td>\n",
       "    </tr>\n",
       "    <tr>\n",
       "      <th>19135</th>\n",
       "      <td>28.12</td>\n",
       "    </tr>\n",
       "    <tr>\n",
       "      <th>19111</th>\n",
       "      <td>28.69</td>\n",
       "    </tr>\n",
       "    <tr>\n",
       "      <th>19124</th>\n",
       "      <td>28.74</td>\n",
       "    </tr>\n",
       "    <tr>\n",
       "      <th>19133</th>\n",
       "      <td>36.14</td>\n",
       "    </tr>\n",
       "    <tr>\n",
       "      <th>19139</th>\n",
       "      <td>37.01</td>\n",
       "    </tr>\n",
       "    <tr>\n",
       "      <th>19153</th>\n",
       "      <td>38.24</td>\n",
       "    </tr>\n",
       "    <tr>\n",
       "      <th>19142</th>\n",
       "      <td>44.56</td>\n",
       "    </tr>\n",
       "    <tr>\n",
       "      <th>19140</th>\n",
       "      <td>57.15</td>\n",
       "    </tr>\n",
       "    <tr>\n",
       "      <th>19132</th>\n",
       "      <td>72.22</td>\n",
       "    </tr>\n",
       "  </tbody>\n",
       "</table>\n",
       "</div>"
      ],
      "text/plain": [
       "             ZHVI\n",
       "RegionName       \n",
       "19148        6.96\n",
       "19145        7.63\n",
       "19122       10.28\n",
       "19125       11.01\n",
       "19104       14.54\n",
       "19129       15.60\n",
       "19119       17.48\n",
       "19118       17.59\n",
       "19154       17.93\n",
       "19150       18.74\n",
       "19151       19.65\n",
       "19127       20.02\n",
       "19126       20.82\n",
       "19114       21.07\n",
       "19144       21.09\n",
       "19128       21.89\n",
       "19152       21.99\n",
       "19115       22.46\n",
       "19116       23.08\n",
       "19137       23.25\n",
       "19131       23.36\n",
       "19134       23.94\n",
       "19143       23.95\n",
       "19138       24.66\n",
       "19149       24.92\n",
       "19121       26.23\n",
       "19141       26.44\n",
       "19136       26.49\n",
       "19120       26.93\n",
       "19135       28.12\n",
       "19111       28.69\n",
       "19124       28.74\n",
       "19133       36.14\n",
       "19139       37.01\n",
       "19153       38.24\n",
       "19142       44.56\n",
       "19140       57.15\n",
       "19132       72.22"
      ]
     },
     "execution_count": 86,
     "metadata": {},
     "output_type": "execute_result"
    }
   ],
   "source": [
    "#apply function for outside of Center City\n",
    "outside_result = outside_grouped.apply(calculate_percent_increase)\n",
    "outside_result.round(2).sort_values(by=\"ZHVI\", ascending=True)"
   ]
  },
  {
   "cell_type": "code",
   "execution_count": 87,
   "metadata": {
    "tags": []
   },
   "outputs": [
    {
     "data": {
      "text/html": [
       "<div>\n",
       "<style scoped>\n",
       "    .dataframe tbody tr th:only-of-type {\n",
       "        vertical-align: middle;\n",
       "    }\n",
       "\n",
       "    .dataframe tbody tr th {\n",
       "        vertical-align: top;\n",
       "    }\n",
       "\n",
       "    .dataframe thead th {\n",
       "        text-align: right;\n",
       "    }\n",
       "</style>\n",
       "<table border=\"1\" class=\"dataframe\">\n",
       "  <thead>\n",
       "    <tr style=\"text-align: right;\">\n",
       "      <th></th>\n",
       "      <th>ZHVI</th>\n",
       "    </tr>\n",
       "    <tr>\n",
       "      <th>RegionName</th>\n",
       "      <th></th>\n",
       "    </tr>\n",
       "  </thead>\n",
       "  <tbody>\n",
       "    <tr>\n",
       "      <th>19107</th>\n",
       "      <td>329753.62</td>\n",
       "    </tr>\n",
       "    <tr>\n",
       "      <th>19102</th>\n",
       "      <td>350272.86</td>\n",
       "    </tr>\n",
       "    <tr>\n",
       "      <th>19146</th>\n",
       "      <td>383751.90</td>\n",
       "    </tr>\n",
       "    <tr>\n",
       "      <th>19106</th>\n",
       "      <td>403091.93</td>\n",
       "    </tr>\n",
       "    <tr>\n",
       "      <th>19130</th>\n",
       "      <td>415658.14</td>\n",
       "    </tr>\n",
       "    <tr>\n",
       "      <th>19123</th>\n",
       "      <td>434565.00</td>\n",
       "    </tr>\n",
       "    <tr>\n",
       "      <th>19147</th>\n",
       "      <td>449165.59</td>\n",
       "    </tr>\n",
       "    <tr>\n",
       "      <th>19103</th>\n",
       "      <td>485132.55</td>\n",
       "    </tr>\n",
       "  </tbody>\n",
       "</table>\n",
       "</div>"
      ],
      "text/plain": [
       "                 ZHVI\n",
       "RegionName           \n",
       "19107       329753.62\n",
       "19102       350272.86\n",
       "19146       383751.90\n",
       "19106       403091.93\n",
       "19130       415658.14\n",
       "19123       434565.00\n",
       "19147       449165.59\n",
       "19103       485132.55"
      ]
     },
     "execution_count": 87,
     "metadata": {},
     "output_type": "execute_result"
    }
   ],
   "source": [
    "#Calculate the average of ZVHI for Center City\n",
    "#first trim to dates from March 2020 onwards, then group by county name\n",
    "center_group_avg = phila_center.query(\"Date >= '2020-03-31'\").groupby(\"RegionName\")\n",
    "\n",
    "#select the columns we want, and then use the built-in mean function\n",
    "center_avg_prices = center_group_avg[['ZHVI']].mean()\n",
    "center_avg_prices.round(2).sort_values(\"ZHVI\")"
   ]
  },
  {
   "cell_type": "code",
   "execution_count": 88,
   "metadata": {
    "tags": []
   },
   "outputs": [
    {
     "data": {
      "text/html": [
       "<div>\n",
       "<style scoped>\n",
       "    .dataframe tbody tr th:only-of-type {\n",
       "        vertical-align: middle;\n",
       "    }\n",
       "\n",
       "    .dataframe tbody tr th {\n",
       "        vertical-align: top;\n",
       "    }\n",
       "\n",
       "    .dataframe thead th {\n",
       "        text-align: right;\n",
       "    }\n",
       "</style>\n",
       "<table border=\"1\" class=\"dataframe\">\n",
       "  <thead>\n",
       "    <tr style=\"text-align: right;\">\n",
       "      <th></th>\n",
       "      <th>ZHVI</th>\n",
       "    </tr>\n",
       "    <tr>\n",
       "      <th>RegionName</th>\n",
       "      <th></th>\n",
       "    </tr>\n",
       "  </thead>\n",
       "  <tbody>\n",
       "    <tr>\n",
       "      <th>19132</th>\n",
       "      <td>72876.31</td>\n",
       "    </tr>\n",
       "    <tr>\n",
       "      <th>19133</th>\n",
       "      <td>79160.59</td>\n",
       "    </tr>\n",
       "    <tr>\n",
       "      <th>19140</th>\n",
       "      <td>85369.00</td>\n",
       "    </tr>\n",
       "    <tr>\n",
       "      <th>19142</th>\n",
       "      <td>112555.34</td>\n",
       "    </tr>\n",
       "    <tr>\n",
       "      <th>19134</th>\n",
       "      <td>113333.62</td>\n",
       "    </tr>\n",
       "    <tr>\n",
       "      <th>19139</th>\n",
       "      <td>136885.83</td>\n",
       "    </tr>\n",
       "    <tr>\n",
       "      <th>19124</th>\n",
       "      <td>146376.34</td>\n",
       "    </tr>\n",
       "    <tr>\n",
       "      <th>19120</th>\n",
       "      <td>150320.55</td>\n",
       "    </tr>\n",
       "    <tr>\n",
       "      <th>19143</th>\n",
       "      <td>163704.69</td>\n",
       "    </tr>\n",
       "    <tr>\n",
       "      <th>19131</th>\n",
       "      <td>164191.28</td>\n",
       "    </tr>\n",
       "    <tr>\n",
       "      <th>19141</th>\n",
       "      <td>170270.69</td>\n",
       "    </tr>\n",
       "    <tr>\n",
       "      <th>19135</th>\n",
       "      <td>177200.17</td>\n",
       "    </tr>\n",
       "    <tr>\n",
       "      <th>19138</th>\n",
       "      <td>180707.97</td>\n",
       "    </tr>\n",
       "    <tr>\n",
       "      <th>19151</th>\n",
       "      <td>188517.17</td>\n",
       "    </tr>\n",
       "    <tr>\n",
       "      <th>19144</th>\n",
       "      <td>192884.14</td>\n",
       "    </tr>\n",
       "    <tr>\n",
       "      <th>19149</th>\n",
       "      <td>201986.45</td>\n",
       "    </tr>\n",
       "    <tr>\n",
       "      <th>19137</th>\n",
       "      <td>203351.48</td>\n",
       "    </tr>\n",
       "    <tr>\n",
       "      <th>19153</th>\n",
       "      <td>207402.00</td>\n",
       "    </tr>\n",
       "    <tr>\n",
       "      <th>19136</th>\n",
       "      <td>209371.83</td>\n",
       "    </tr>\n",
       "    <tr>\n",
       "      <th>19104</th>\n",
       "      <td>212173.86</td>\n",
       "    </tr>\n",
       "    <tr>\n",
       "      <th>19126</th>\n",
       "      <td>213010.90</td>\n",
       "    </tr>\n",
       "    <tr>\n",
       "      <th>19150</th>\n",
       "      <td>223884.34</td>\n",
       "    </tr>\n",
       "    <tr>\n",
       "      <th>19121</th>\n",
       "      <td>228255.28</td>\n",
       "    </tr>\n",
       "    <tr>\n",
       "      <th>19111</th>\n",
       "      <td>241814.21</td>\n",
       "    </tr>\n",
       "    <tr>\n",
       "      <th>19114</th>\n",
       "      <td>260346.55</td>\n",
       "    </tr>\n",
       "    <tr>\n",
       "      <th>19148</th>\n",
       "      <td>264084.00</td>\n",
       "    </tr>\n",
       "    <tr>\n",
       "      <th>19152</th>\n",
       "      <td>266799.03</td>\n",
       "    </tr>\n",
       "    <tr>\n",
       "      <th>19154</th>\n",
       "      <td>268096.76</td>\n",
       "    </tr>\n",
       "    <tr>\n",
       "      <th>19145</th>\n",
       "      <td>268546.66</td>\n",
       "    </tr>\n",
       "    <tr>\n",
       "      <th>19129</th>\n",
       "      <td>279712.62</td>\n",
       "    </tr>\n",
       "    <tr>\n",
       "      <th>19127</th>\n",
       "      <td>292084.38</td>\n",
       "    </tr>\n",
       "    <tr>\n",
       "      <th>19122</th>\n",
       "      <td>294285.66</td>\n",
       "    </tr>\n",
       "    <tr>\n",
       "      <th>19115</th>\n",
       "      <td>302948.93</td>\n",
       "    </tr>\n",
       "    <tr>\n",
       "      <th>19128</th>\n",
       "      <td>309381.59</td>\n",
       "    </tr>\n",
       "    <tr>\n",
       "      <th>19116</th>\n",
       "      <td>317510.48</td>\n",
       "    </tr>\n",
       "    <tr>\n",
       "      <th>19119</th>\n",
       "      <td>327088.48</td>\n",
       "    </tr>\n",
       "    <tr>\n",
       "      <th>19125</th>\n",
       "      <td>328043.97</td>\n",
       "    </tr>\n",
       "    <tr>\n",
       "      <th>19118</th>\n",
       "      <td>681192.62</td>\n",
       "    </tr>\n",
       "  </tbody>\n",
       "</table>\n",
       "</div>"
      ],
      "text/plain": [
       "                 ZHVI\n",
       "RegionName           \n",
       "19132        72876.31\n",
       "19133        79160.59\n",
       "19140        85369.00\n",
       "19142       112555.34\n",
       "19134       113333.62\n",
       "19139       136885.83\n",
       "19124       146376.34\n",
       "19120       150320.55\n",
       "19143       163704.69\n",
       "19131       164191.28\n",
       "19141       170270.69\n",
       "19135       177200.17\n",
       "19138       180707.97\n",
       "19151       188517.17\n",
       "19144       192884.14\n",
       "19149       201986.45\n",
       "19137       203351.48\n",
       "19153       207402.00\n",
       "19136       209371.83\n",
       "19104       212173.86\n",
       "19126       213010.90\n",
       "19150       223884.34\n",
       "19121       228255.28\n",
       "19111       241814.21\n",
       "19114       260346.55\n",
       "19148       264084.00\n",
       "19152       266799.03\n",
       "19154       268096.76\n",
       "19145       268546.66\n",
       "19129       279712.62\n",
       "19127       292084.38\n",
       "19122       294285.66\n",
       "19115       302948.93\n",
       "19128       309381.59\n",
       "19116       317510.48\n",
       "19119       327088.48\n",
       "19125       328043.97\n",
       "19118       681192.62"
      ]
     },
     "execution_count": 88,
     "metadata": {},
     "output_type": "execute_result"
    }
   ],
   "source": [
    "#Calculate the average of ZVHI for outside of Center City\n",
    "#first trim to dates from March 2020 onwards, then group by county name\n",
    "outside_group_avg = phila_outside.query(\"Date >= '2020-03-31'\").groupby(\"RegionName\")\n",
    "\n",
    "#select the columns we want, and then use the built-in mean function\n",
    "outside_avg_prices = outside_group_avg[['ZHVI']].mean()\n",
    "outside_avg_prices.round(2).sort_values(\"ZHVI\")"
   ]
  },
  {
   "cell_type": "markdown",
   "metadata": {},
   "source": [
    "# Result\n",
    "\n",
    "Based on ZHVI data from March 31, 2020, to March 31, 2022, it is evident that home price appreciation changes for properties in city suburbs of Philadelphia are consistently higher than those in the central business district.\n",
    "\n",
    "Among the neighborhoods outside Center City, the Chestnut Hill area (ZIP Code: 19118) reported the highest average ZHVI, reaching $681,192.62. In contrast, the lowest average ZHVI was observed in Strawberry Mansion area (ZIP Code: 19132), with a significantly lower average of $72,876.00. Within Center City, the average ZHVI across the 9 selected ZIP codes varied from $329,753.62 to $485,132.55.\n",
    "\n",
    "The percent change in ZHVI from 2020 to 2022 reveals a contrasting trend between two zones. The percent change for properties outside Center City ranged from 6.96% to 72.22% over two years, whereas the change within Center City fluctuated between -1.72% and 6.67%. This disparity highlights a donut effect, suggesting that properties in the central business district have become less attractive as homebuyers increasingly seek options in the surrounding areas.\n",
    "\n",
    "The ZHVI comparison for the period is illustrated in the graph below. Please note that all values have been normalized to 1 as of March 2020."
   ]
  },
  {
   "cell_type": "code",
   "execution_count": 89,
   "metadata": {
    "tags": []
   },
   "outputs": [],
   "source": [
    "#create a graph to compare ZHVI between Center City and outside of Center City\n",
    "from matplotlib import pyplot as plt\n",
    "from matplotlib.lines import Line2D"
   ]
  },
  {
   "cell_type": "code",
   "execution_count": 90,
   "metadata": {
    "tags": []
   },
   "outputs": [
    {
     "data": {
      "text/plain": [
       "<matplotlib.legend.Legend at 0x1c8cd3b8190>"
      ]
     },
     "execution_count": 90,
     "metadata": {},
     "output_type": "execute_result"
    },
    {
     "data": {
      "image/png": "[encoded data removed]",
      "text/plain": [
       "<Figure size 640x480 with 1 Axes>"
      ]
     },
     "metadata": {},
     "output_type": "display_data"
    }
   ],
   "source": [
    "#create the figure and axes\n",
    "fig, ax = plt.subplots()\n",
    "\n",
    "#iterate over the data, grouped by county name\n",
    "for countyName, group_df in phila_outside.groupby(\"RegionName\"):\n",
    "    \n",
    "    #trim to where Date > March 2020\n",
    "    #sort by Date in ascending order\n",
    "    group_df = group_df.sort_values(\"Date\").query(\"Date >= '2020-03-01'\")\n",
    "\n",
    "    #date vs. ZHVI\n",
    "    x = group_df[\"Date\"]\n",
    "    y = group_df[\"ZHVI\"]\n",
    "    \n",
    "    #trime\n",
    "    ax_out = ax.plot(x, y / y.iloc[0], color=\"red\", alpha=0.2)\n",
    "\n",
    "#iterate over the data, grouped by county name\n",
    "for countyName, group_df in phila_center.groupby(\"RegionName\"):\n",
    "    \n",
    "    #trim to where Date > March 2020\n",
    "    #sort by Date in ascending order\n",
    "    group_df = group_df.sort_values(\"Date\").query(\"Date >= '2020-03-01'\")\n",
    "\n",
    "    #date vs. ZHVI\n",
    "    x = group_df[\"Date\"]\n",
    "    y = group_df[\"ZHVI\"]\n",
    "    \n",
    "    #trime\n",
    "    ax.plot(x, y / y.iloc[0], color=\"blue\", alpha=0.2)    \n",
    "    \n",
    "#format and add a legend\n",
    "ax.set_title(\"ZHVI Values in Philadelphia, Normalized to 1 in March 2020\", fontsize=10.5)\n",
    "ax.set_xticks([\"2020-03-31\", \"2022-03-31\"])\n",
    "plt.ylabel(\"ZHVI\", fontsize=10)\n",
    "\n",
    "handles, labels = plt.gca().get_legend_handles_labels()\n",
    "line1 = Line2D([0], [0], label='Center City', color='blue', alpha=0.2)\n",
    "line2 = Line2D([0], [0], label='Outside of Center City', color='red', alpha=0.2)\n",
    "handles.extend([line1, line2])\n",
    "ax.legend(handles=handles)"
   ]
  },
  {
   "cell_type": "code",
   "execution_count": null,
   "metadata": {},
   "outputs": [],
   "source": []
  }
 ],
 "metadata": {
  "kernelspec": {
   "display_name": "Python 3 (ipykernel)",
   "language": "python",
   "name": "python3"
  },
  "language_info": {
   "codemirror_mode": {
    "name": "ipython",
    "version": 3
   },
   "file_extension": ".py",
   "mimetype": "text/x-python",
   "name": "python",
   "nbconvert_exporter": "python",
   "pygments_lexer": "ipython3",
   "version": "3.10.12"
  }
 },
 "nbformat": 4,
 "nbformat_minor": 4
}
